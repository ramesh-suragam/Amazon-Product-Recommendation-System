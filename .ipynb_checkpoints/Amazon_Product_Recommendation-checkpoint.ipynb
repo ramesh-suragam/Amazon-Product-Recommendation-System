{
 "cells": [
  {
   "cell_type": "markdown",
   "metadata": {},
   "source": [
    "## Amazon Product Recommendation\n",
    "\n",
    "Online E-commerce websites like Amazon, Filpkart uses different recommendation models to provide different suggestions to different users. Amazon currently uses item-to-item collaborative filtering, which scales to massive data sets and produces high-quality recommendations in real time. This type of filtering matches each of the user's purchased and rated items to similar items, then combines those similar items into a recommendation list for the user. In this project we are going to build recommendation model for the electronics products of Amazon.\n",
    "\n",
    "#### Attribute Information:\n",
    "\n",
    "● overall: Rating of the corresponding product by the corresponding user\n",
    "\n",
    "● verified: Every user is either reviewed or not\n",
    "\n",
    "● reviewTime: Time when review is provide\n",
    "\n",
    "● reviewerID: Every user identified with a unique id\n",
    "\n",
    "● asin: Every product identified with a unique id(Second Column)\n",
    "\n",
    "● reviewerName: Name of the user\n",
    "\n",
    "● timestamp: Time of the rating ( Fourth Column)\n",
    "\n",
    "#### Problem Statement:\n",
    "\n",
    "Our objective is to build a recommendation system to recommend products to customers based on the their previous ratings for other products. For this purpose, first we will perform exploratory data analysis and then implement recommendation algorithms including Popularity-Based, Collaborative filtering.\n",
    "\n",
    "Both these recommendation systems can be defined as below:\n",
    "\n",
    "● Popularity based systems: It works by recommeding items viewed and purchased by most people and are rated high.It is not a personalized recommendation and is mostly useful for the test case of recommending products to new customers.\n",
    "\n",
    "● Collaborative Filtering: It is based on assumption that people like things similar to other things they like, and things that are liked by other people with similar taste. There are two ways of doing this. One is user based and second is item based collaborative filtering."
   ]
  },
  {
   "cell_type": "markdown",
   "metadata": {},
   "source": [
    "### Reading the data"
   ]
  },
  {
   "cell_type": "code",
   "execution_count": 86,
   "metadata": {},
   "outputs": [],
   "source": [
    "# Importing libraries\n",
    "\n",
    "import pandas as pd\n",
    "import numpy as np\n",
    "import matplotlib.pyplot as plt\n",
    "from sklearn.decomposition import TruncatedSVD\n",
    "from sklearn.model_selection import train_test_split"
   ]
  },
  {
   "cell_type": "code",
   "execution_count": 3,
   "metadata": {},
   "outputs": [],
   "source": [
    "# Loading the product data into data frames\n",
    "\n",
    "allbeauty_df = pd.read_json(\"C:\\Data\\All_Beauty.json\", lines = True)\n",
    "fashion_df = pd.read_json(\"C:\\Data\\AMAZON_FASHION.json\", lines = True)\n",
    "appliances_df = pd.read_json(\"C:\\Data\\Appliances.json\", lines = True)"
   ]
  },
  {
   "cell_type": "code",
   "execution_count": 11,
   "metadata": {},
   "outputs": [
    {
     "name": "stdout",
     "output_type": "stream",
     "text": [
      "(371345, 12) (883636, 12) (602777, 12)\n"
     ]
    }
   ],
   "source": [
    "# Checking the shape of the data\n",
    "\n",
    "print(allbeauty_df.shape, fashion_df.shape, appliances_df.shape)"
   ]
  },
  {
   "cell_type": "code",
   "execution_count": 12,
   "metadata": {},
   "outputs": [
    {
     "data": {
      "text/html": [
       "<div>\n",
       "<style scoped>\n",
       "    .dataframe tbody tr th:only-of-type {\n",
       "        vertical-align: middle;\n",
       "    }\n",
       "\n",
       "    .dataframe tbody tr th {\n",
       "        vertical-align: top;\n",
       "    }\n",
       "\n",
       "    .dataframe thead th {\n",
       "        text-align: right;\n",
       "    }\n",
       "</style>\n",
       "<table border=\"1\" class=\"dataframe\">\n",
       "  <thead>\n",
       "    <tr style=\"text-align: right;\">\n",
       "      <th></th>\n",
       "      <th>overall</th>\n",
       "      <th>verified</th>\n",
       "      <th>reviewTime</th>\n",
       "      <th>reviewerID</th>\n",
       "      <th>asin</th>\n",
       "      <th>reviewerName</th>\n",
       "      <th>reviewText</th>\n",
       "      <th>summary</th>\n",
       "      <th>unixReviewTime</th>\n",
       "      <th>vote</th>\n",
       "      <th>style</th>\n",
       "      <th>image</th>\n",
       "    </tr>\n",
       "  </thead>\n",
       "  <tbody>\n",
       "    <tr>\n",
       "      <td>0</td>\n",
       "      <td>1</td>\n",
       "      <td>True</td>\n",
       "      <td>02 19, 2015</td>\n",
       "      <td>A1V6B6TNIC10QE</td>\n",
       "      <td>0143026860</td>\n",
       "      <td>theodore j bigham</td>\n",
       "      <td>great</td>\n",
       "      <td>One Star</td>\n",
       "      <td>1424304000</td>\n",
       "      <td>NaN</td>\n",
       "      <td>NaN</td>\n",
       "      <td>NaN</td>\n",
       "    </tr>\n",
       "    <tr>\n",
       "      <td>1</td>\n",
       "      <td>4</td>\n",
       "      <td>True</td>\n",
       "      <td>12 18, 2014</td>\n",
       "      <td>A2F5GHSXFQ0W6J</td>\n",
       "      <td>0143026860</td>\n",
       "      <td>Mary K. Byke</td>\n",
       "      <td>My  husband wanted to reading about the Negro ...</td>\n",
       "      <td>... to reading about the Negro Baseball and th...</td>\n",
       "      <td>1418860800</td>\n",
       "      <td>NaN</td>\n",
       "      <td>NaN</td>\n",
       "      <td>NaN</td>\n",
       "    </tr>\n",
       "    <tr>\n",
       "      <td>2</td>\n",
       "      <td>4</td>\n",
       "      <td>True</td>\n",
       "      <td>08 10, 2014</td>\n",
       "      <td>A1572GUYS7DGSR</td>\n",
       "      <td>0143026860</td>\n",
       "      <td>David G</td>\n",
       "      <td>This book was very informative, covering all a...</td>\n",
       "      <td>Worth the Read</td>\n",
       "      <td>1407628800</td>\n",
       "      <td>NaN</td>\n",
       "      <td>NaN</td>\n",
       "      <td>NaN</td>\n",
       "    </tr>\n",
       "    <tr>\n",
       "      <td>3</td>\n",
       "      <td>5</td>\n",
       "      <td>True</td>\n",
       "      <td>03 11, 2013</td>\n",
       "      <td>A1PSGLFK1NSVO</td>\n",
       "      <td>0143026860</td>\n",
       "      <td>TamB</td>\n",
       "      <td>I am already a baseball fan and knew a bit abo...</td>\n",
       "      <td>Good Read</td>\n",
       "      <td>1362960000</td>\n",
       "      <td>NaN</td>\n",
       "      <td>NaN</td>\n",
       "      <td>NaN</td>\n",
       "    </tr>\n",
       "    <tr>\n",
       "      <td>4</td>\n",
       "      <td>5</td>\n",
       "      <td>True</td>\n",
       "      <td>12 25, 2011</td>\n",
       "      <td>A6IKXKZMTKGSC</td>\n",
       "      <td>0143026860</td>\n",
       "      <td>shoecanary</td>\n",
       "      <td>This was a good story of the Black leagues. I ...</td>\n",
       "      <td>More than facts, a good story read!</td>\n",
       "      <td>1324771200</td>\n",
       "      <td>5</td>\n",
       "      <td>NaN</td>\n",
       "      <td>NaN</td>\n",
       "    </tr>\n",
       "  </tbody>\n",
       "</table>\n",
       "</div>"
      ],
      "text/plain": [
       "   overall  verified   reviewTime      reviewerID        asin  \\\n",
       "0        1      True  02 19, 2015  A1V6B6TNIC10QE  0143026860   \n",
       "1        4      True  12 18, 2014  A2F5GHSXFQ0W6J  0143026860   \n",
       "2        4      True  08 10, 2014  A1572GUYS7DGSR  0143026860   \n",
       "3        5      True  03 11, 2013   A1PSGLFK1NSVO  0143026860   \n",
       "4        5      True  12 25, 2011   A6IKXKZMTKGSC  0143026860   \n",
       "\n",
       "        reviewerName                                         reviewText  \\\n",
       "0  theodore j bigham                                              great   \n",
       "1       Mary K. Byke  My  husband wanted to reading about the Negro ...   \n",
       "2            David G  This book was very informative, covering all a...   \n",
       "3               TamB  I am already a baseball fan and knew a bit abo...   \n",
       "4         shoecanary  This was a good story of the Black leagues. I ...   \n",
       "\n",
       "                                             summary  unixReviewTime vote  \\\n",
       "0                                           One Star      1424304000  NaN   \n",
       "1  ... to reading about the Negro Baseball and th...      1418860800  NaN   \n",
       "2                                     Worth the Read      1407628800  NaN   \n",
       "3                                          Good Read      1362960000  NaN   \n",
       "4                More than facts, a good story read!      1324771200    5   \n",
       "\n",
       "  style image  \n",
       "0   NaN   NaN  \n",
       "1   NaN   NaN  \n",
       "2   NaN   NaN  \n",
       "3   NaN   NaN  \n",
       "4   NaN   NaN  "
      ]
     },
     "execution_count": 12,
     "metadata": {},
     "output_type": "execute_result"
    }
   ],
   "source": [
    "# Checking the allbeauty data\n",
    "\n",
    "allbeauty_df.head()"
   ]
  },
  {
   "cell_type": "code",
   "execution_count": 13,
   "metadata": {},
   "outputs": [
    {
     "data": {
      "text/html": [
       "<div>\n",
       "<style scoped>\n",
       "    .dataframe tbody tr th:only-of-type {\n",
       "        vertical-align: middle;\n",
       "    }\n",
       "\n",
       "    .dataframe tbody tr th {\n",
       "        vertical-align: top;\n",
       "    }\n",
       "\n",
       "    .dataframe thead th {\n",
       "        text-align: right;\n",
       "    }\n",
       "</style>\n",
       "<table border=\"1\" class=\"dataframe\">\n",
       "  <thead>\n",
       "    <tr style=\"text-align: right;\">\n",
       "      <th></th>\n",
       "      <th>overall</th>\n",
       "      <th>verified</th>\n",
       "      <th>reviewTime</th>\n",
       "      <th>reviewerID</th>\n",
       "      <th>asin</th>\n",
       "      <th>reviewerName</th>\n",
       "      <th>reviewText</th>\n",
       "      <th>summary</th>\n",
       "      <th>unixReviewTime</th>\n",
       "      <th>vote</th>\n",
       "      <th>style</th>\n",
       "      <th>image</th>\n",
       "    </tr>\n",
       "  </thead>\n",
       "  <tbody>\n",
       "    <tr>\n",
       "      <td>0</td>\n",
       "      <td>5</td>\n",
       "      <td>True</td>\n",
       "      <td>10 20, 2014</td>\n",
       "      <td>A1D4G1SNUZWQOT</td>\n",
       "      <td>7106116521</td>\n",
       "      <td>Tracy</td>\n",
       "      <td>Exactly what I needed.</td>\n",
       "      <td>perfect replacements!!</td>\n",
       "      <td>1413763200</td>\n",
       "      <td>NaN</td>\n",
       "      <td>NaN</td>\n",
       "      <td>NaN</td>\n",
       "    </tr>\n",
       "    <tr>\n",
       "      <td>1</td>\n",
       "      <td>2</td>\n",
       "      <td>True</td>\n",
       "      <td>09 28, 2014</td>\n",
       "      <td>A3DDWDH9PX2YX2</td>\n",
       "      <td>7106116521</td>\n",
       "      <td>Sonja Lau</td>\n",
       "      <td>I agree with the other review, the opening is ...</td>\n",
       "      <td>I agree with the other review, the opening is ...</td>\n",
       "      <td>1411862400</td>\n",
       "      <td>3.0</td>\n",
       "      <td>NaN</td>\n",
       "      <td>NaN</td>\n",
       "    </tr>\n",
       "    <tr>\n",
       "      <td>2</td>\n",
       "      <td>4</td>\n",
       "      <td>False</td>\n",
       "      <td>08 25, 2014</td>\n",
       "      <td>A2MWC41EW7XL15</td>\n",
       "      <td>7106116521</td>\n",
       "      <td>Kathleen</td>\n",
       "      <td>Love these... I am going to order another pack...</td>\n",
       "      <td>My New 'Friends' !!</td>\n",
       "      <td>1408924800</td>\n",
       "      <td>NaN</td>\n",
       "      <td>NaN</td>\n",
       "      <td>NaN</td>\n",
       "    </tr>\n",
       "    <tr>\n",
       "      <td>3</td>\n",
       "      <td>2</td>\n",
       "      <td>True</td>\n",
       "      <td>08 24, 2014</td>\n",
       "      <td>A2UH2QQ275NV45</td>\n",
       "      <td>7106116521</td>\n",
       "      <td>Jodi Stoner</td>\n",
       "      <td>too tiny an opening</td>\n",
       "      <td>Two Stars</td>\n",
       "      <td>1408838400</td>\n",
       "      <td>NaN</td>\n",
       "      <td>NaN</td>\n",
       "      <td>NaN</td>\n",
       "    </tr>\n",
       "    <tr>\n",
       "      <td>4</td>\n",
       "      <td>3</td>\n",
       "      <td>False</td>\n",
       "      <td>07 27, 2014</td>\n",
       "      <td>A89F3LQADZBS5</td>\n",
       "      <td>7106116521</td>\n",
       "      <td>Alexander D.</td>\n",
       "      <td>Okay</td>\n",
       "      <td>Three Stars</td>\n",
       "      <td>1406419200</td>\n",
       "      <td>NaN</td>\n",
       "      <td>NaN</td>\n",
       "      <td>NaN</td>\n",
       "    </tr>\n",
       "  </tbody>\n",
       "</table>\n",
       "</div>"
      ],
      "text/plain": [
       "   overall  verified   reviewTime      reviewerID        asin  reviewerName  \\\n",
       "0        5      True  10 20, 2014  A1D4G1SNUZWQOT  7106116521         Tracy   \n",
       "1        2      True  09 28, 2014  A3DDWDH9PX2YX2  7106116521     Sonja Lau   \n",
       "2        4     False  08 25, 2014  A2MWC41EW7XL15  7106116521      Kathleen   \n",
       "3        2      True  08 24, 2014  A2UH2QQ275NV45  7106116521   Jodi Stoner   \n",
       "4        3     False  07 27, 2014   A89F3LQADZBS5  7106116521  Alexander D.   \n",
       "\n",
       "                                          reviewText  \\\n",
       "0                             Exactly what I needed.   \n",
       "1  I agree with the other review, the opening is ...   \n",
       "2  Love these... I am going to order another pack...   \n",
       "3                                too tiny an opening   \n",
       "4                                               Okay   \n",
       "\n",
       "                                             summary  unixReviewTime  vote  \\\n",
       "0                             perfect replacements!!      1413763200   NaN   \n",
       "1  I agree with the other review, the opening is ...      1411862400   3.0   \n",
       "2                                My New 'Friends' !!      1408924800   NaN   \n",
       "3                                          Two Stars      1408838400   NaN   \n",
       "4                                        Three Stars      1406419200   NaN   \n",
       "\n",
       "  style image  \n",
       "0   NaN   NaN  \n",
       "1   NaN   NaN  \n",
       "2   NaN   NaN  \n",
       "3   NaN   NaN  \n",
       "4   NaN   NaN  "
      ]
     },
     "execution_count": 13,
     "metadata": {},
     "output_type": "execute_result"
    }
   ],
   "source": [
    "# Checking the fashion data\n",
    "\n",
    "fashion_df.head()"
   ]
  },
  {
   "cell_type": "code",
   "execution_count": 14,
   "metadata": {},
   "outputs": [
    {
     "data": {
      "text/html": [
       "<div>\n",
       "<style scoped>\n",
       "    .dataframe tbody tr th:only-of-type {\n",
       "        vertical-align: middle;\n",
       "    }\n",
       "\n",
       "    .dataframe tbody tr th {\n",
       "        vertical-align: top;\n",
       "    }\n",
       "\n",
       "    .dataframe thead th {\n",
       "        text-align: right;\n",
       "    }\n",
       "</style>\n",
       "<table border=\"1\" class=\"dataframe\">\n",
       "  <thead>\n",
       "    <tr style=\"text-align: right;\">\n",
       "      <th></th>\n",
       "      <th>overall</th>\n",
       "      <th>vote</th>\n",
       "      <th>verified</th>\n",
       "      <th>reviewTime</th>\n",
       "      <th>reviewerID</th>\n",
       "      <th>asin</th>\n",
       "      <th>style</th>\n",
       "      <th>reviewerName</th>\n",
       "      <th>reviewText</th>\n",
       "      <th>summary</th>\n",
       "      <th>unixReviewTime</th>\n",
       "      <th>image</th>\n",
       "    </tr>\n",
       "  </thead>\n",
       "  <tbody>\n",
       "    <tr>\n",
       "      <td>0</td>\n",
       "      <td>5</td>\n",
       "      <td>2</td>\n",
       "      <td>False</td>\n",
       "      <td>11 27, 2013</td>\n",
       "      <td>A3NHUQ33CFH3VM</td>\n",
       "      <td>1118461304</td>\n",
       "      <td>{'Format:': ' Hardcover'}</td>\n",
       "      <td>Greeny</td>\n",
       "      <td>Not one thing in this book seemed an obvious o...</td>\n",
       "      <td>Clear on what leads to innovation</td>\n",
       "      <td>1385510400</td>\n",
       "      <td>NaN</td>\n",
       "    </tr>\n",
       "    <tr>\n",
       "      <td>1</td>\n",
       "      <td>5</td>\n",
       "      <td>NaN</td>\n",
       "      <td>False</td>\n",
       "      <td>11 1, 2013</td>\n",
       "      <td>A3SK6VNBQDNBJE</td>\n",
       "      <td>1118461304</td>\n",
       "      <td>{'Format:': ' Kindle Edition'}</td>\n",
       "      <td>Leif C. Ulstrup</td>\n",
       "      <td>I have enjoyed Dr. Alan Gregerman's weekly blo...</td>\n",
       "      <td>Becoming more innovative by opening yourself t...</td>\n",
       "      <td>1383264000</td>\n",
       "      <td>NaN</td>\n",
       "    </tr>\n",
       "    <tr>\n",
       "      <td>2</td>\n",
       "      <td>5</td>\n",
       "      <td>NaN</td>\n",
       "      <td>False</td>\n",
       "      <td>10 10, 2013</td>\n",
       "      <td>A3SOFHUR27FO3K</td>\n",
       "      <td>1118461304</td>\n",
       "      <td>{'Format:': ' Hardcover'}</td>\n",
       "      <td>Harry Gilbert Miller III</td>\n",
       "      <td>Alan Gregerman believes that innovation comes ...</td>\n",
       "      <td>The World from Different Perspectives</td>\n",
       "      <td>1381363200</td>\n",
       "      <td>NaN</td>\n",
       "    </tr>\n",
       "    <tr>\n",
       "      <td>3</td>\n",
       "      <td>5</td>\n",
       "      <td>NaN</td>\n",
       "      <td>False</td>\n",
       "      <td>10 9, 2013</td>\n",
       "      <td>A1HOG1PYCAE157</td>\n",
       "      <td>1118461304</td>\n",
       "      <td>{'Format:': ' Hardcover'}</td>\n",
       "      <td>Rebecca Ripley</td>\n",
       "      <td>Alan Gregerman is a smart, funny, entertaining...</td>\n",
       "      <td>Strangers are Your New Best Friends</td>\n",
       "      <td>1381276800</td>\n",
       "      <td>NaN</td>\n",
       "    </tr>\n",
       "    <tr>\n",
       "      <td>4</td>\n",
       "      <td>5</td>\n",
       "      <td>10</td>\n",
       "      <td>False</td>\n",
       "      <td>09 7, 2013</td>\n",
       "      <td>A26JGAM6GZMM4V</td>\n",
       "      <td>1118461304</td>\n",
       "      <td>{'Format:': ' Hardcover'}</td>\n",
       "      <td>Robert Morris</td>\n",
       "      <td>As I began to read this book, I was again remi...</td>\n",
       "      <td>How and why it is imperative to engage, learn ...</td>\n",
       "      <td>1378512000</td>\n",
       "      <td>NaN</td>\n",
       "    </tr>\n",
       "  </tbody>\n",
       "</table>\n",
       "</div>"
      ],
      "text/plain": [
       "   overall vote  verified   reviewTime      reviewerID        asin  \\\n",
       "0        5    2     False  11 27, 2013  A3NHUQ33CFH3VM  1118461304   \n",
       "1        5  NaN     False   11 1, 2013  A3SK6VNBQDNBJE  1118461304   \n",
       "2        5  NaN     False  10 10, 2013  A3SOFHUR27FO3K  1118461304   \n",
       "3        5  NaN     False   10 9, 2013  A1HOG1PYCAE157  1118461304   \n",
       "4        5   10     False   09 7, 2013  A26JGAM6GZMM4V  1118461304   \n",
       "\n",
       "                            style              reviewerName  \\\n",
       "0       {'Format:': ' Hardcover'}                    Greeny   \n",
       "1  {'Format:': ' Kindle Edition'}           Leif C. Ulstrup   \n",
       "2       {'Format:': ' Hardcover'}  Harry Gilbert Miller III   \n",
       "3       {'Format:': ' Hardcover'}            Rebecca Ripley   \n",
       "4       {'Format:': ' Hardcover'}             Robert Morris   \n",
       "\n",
       "                                          reviewText  \\\n",
       "0  Not one thing in this book seemed an obvious o...   \n",
       "1  I have enjoyed Dr. Alan Gregerman's weekly blo...   \n",
       "2  Alan Gregerman believes that innovation comes ...   \n",
       "3  Alan Gregerman is a smart, funny, entertaining...   \n",
       "4  As I began to read this book, I was again remi...   \n",
       "\n",
       "                                             summary  unixReviewTime image  \n",
       "0                  Clear on what leads to innovation      1385510400   NaN  \n",
       "1  Becoming more innovative by opening yourself t...      1383264000   NaN  \n",
       "2              The World from Different Perspectives      1381363200   NaN  \n",
       "3                Strangers are Your New Best Friends      1381276800   NaN  \n",
       "4  How and why it is imperative to engage, learn ...      1378512000   NaN  "
      ]
     },
     "execution_count": 14,
     "metadata": {},
     "output_type": "execute_result"
    }
   ],
   "source": [
    "# Checking the appliances data\n",
    "\n",
    "appliances_df.head()"
   ]
  },
  {
   "cell_type": "markdown",
   "metadata": {},
   "source": [
    "### Data Preprocessing"
   ]
  },
  {
   "cell_type": "code",
   "execution_count": 15,
   "metadata": {},
   "outputs": [],
   "source": [
    "# Retrieving the columns neccessary for the analysis\n",
    "\n",
    "allbeauty_df2 = allbeauty_df[['overall','verified','reviewerID','reviewTime','asin']]\n",
    "fashion_df2 = fashion_df[['overall','verified','reviewerID','reviewTime','asin']]\n",
    "appliances_df2 = appliances_df[['overall','verified','reviewerID','reviewTime','asin']]"
   ]
  },
  {
   "cell_type": "code",
   "execution_count": 16,
   "metadata": {},
   "outputs": [],
   "source": [
    "# Combining all the dataframes into a single dataframe\n",
    "\n",
    "df = allbeauty_df2.append(fashion_df2).append(appliances_df2)"
   ]
  },
  {
   "cell_type": "code",
   "execution_count": 17,
   "metadata": {},
   "outputs": [
    {
     "data": {
      "text/plain": [
       "(1857758, 5)"
      ]
     },
     "execution_count": 17,
     "metadata": {},
     "output_type": "execute_result"
    }
   ],
   "source": [
    "# Checking the shape of the final dataframe\n",
    "\n",
    "df.shape"
   ]
  },
  {
   "cell_type": "code",
   "execution_count": 18,
   "metadata": {},
   "outputs": [
    {
     "data": {
      "text/html": [
       "<div>\n",
       "<style scoped>\n",
       "    .dataframe tbody tr th:only-of-type {\n",
       "        vertical-align: middle;\n",
       "    }\n",
       "\n",
       "    .dataframe tbody tr th {\n",
       "        vertical-align: top;\n",
       "    }\n",
       "\n",
       "    .dataframe thead th {\n",
       "        text-align: right;\n",
       "    }\n",
       "</style>\n",
       "<table border=\"1\" class=\"dataframe\">\n",
       "  <thead>\n",
       "    <tr style=\"text-align: right;\">\n",
       "      <th></th>\n",
       "      <th>overall</th>\n",
       "      <th>verified</th>\n",
       "      <th>reviewerID</th>\n",
       "      <th>reviewTime</th>\n",
       "      <th>asin</th>\n",
       "    </tr>\n",
       "  </thead>\n",
       "  <tbody>\n",
       "    <tr>\n",
       "      <td>0</td>\n",
       "      <td>1</td>\n",
       "      <td>True</td>\n",
       "      <td>A1V6B6TNIC10QE</td>\n",
       "      <td>02 19, 2015</td>\n",
       "      <td>0143026860</td>\n",
       "    </tr>\n",
       "    <tr>\n",
       "      <td>1</td>\n",
       "      <td>4</td>\n",
       "      <td>True</td>\n",
       "      <td>A2F5GHSXFQ0W6J</td>\n",
       "      <td>12 18, 2014</td>\n",
       "      <td>0143026860</td>\n",
       "    </tr>\n",
       "    <tr>\n",
       "      <td>2</td>\n",
       "      <td>4</td>\n",
       "      <td>True</td>\n",
       "      <td>A1572GUYS7DGSR</td>\n",
       "      <td>08 10, 2014</td>\n",
       "      <td>0143026860</td>\n",
       "    </tr>\n",
       "    <tr>\n",
       "      <td>3</td>\n",
       "      <td>5</td>\n",
       "      <td>True</td>\n",
       "      <td>A1PSGLFK1NSVO</td>\n",
       "      <td>03 11, 2013</td>\n",
       "      <td>0143026860</td>\n",
       "    </tr>\n",
       "    <tr>\n",
       "      <td>4</td>\n",
       "      <td>5</td>\n",
       "      <td>True</td>\n",
       "      <td>A6IKXKZMTKGSC</td>\n",
       "      <td>12 25, 2011</td>\n",
       "      <td>0143026860</td>\n",
       "    </tr>\n",
       "  </tbody>\n",
       "</table>\n",
       "</div>"
      ],
      "text/plain": [
       "   overall  verified      reviewerID   reviewTime        asin\n",
       "0        1      True  A1V6B6TNIC10QE  02 19, 2015  0143026860\n",
       "1        4      True  A2F5GHSXFQ0W6J  12 18, 2014  0143026860\n",
       "2        4      True  A1572GUYS7DGSR  08 10, 2014  0143026860\n",
       "3        5      True   A1PSGLFK1NSVO  03 11, 2013  0143026860\n",
       "4        5      True   A6IKXKZMTKGSC  12 25, 2011  0143026860"
      ]
     },
     "execution_count": 18,
     "metadata": {},
     "output_type": "execute_result"
    }
   ],
   "source": [
    "# Checking the data in final dataframe\n",
    "\n",
    "df.head()"
   ]
  },
  {
   "cell_type": "code",
   "execution_count": 19,
   "metadata": {},
   "outputs": [],
   "source": [
    "# Renaming the dataframe columns as required\n",
    "\n",
    "df = df.rename(columns={'overall':'rating','asin':'itemID'})"
   ]
  },
  {
   "cell_type": "code",
   "execution_count": 21,
   "metadata": {},
   "outputs": [
    {
     "data": {
      "text/html": [
       "<div>\n",
       "<style scoped>\n",
       "    .dataframe tbody tr th:only-of-type {\n",
       "        vertical-align: middle;\n",
       "    }\n",
       "\n",
       "    .dataframe tbody tr th {\n",
       "        vertical-align: top;\n",
       "    }\n",
       "\n",
       "    .dataframe thead th {\n",
       "        text-align: right;\n",
       "    }\n",
       "</style>\n",
       "<table border=\"1\" class=\"dataframe\">\n",
       "  <thead>\n",
       "    <tr style=\"text-align: right;\">\n",
       "      <th></th>\n",
       "      <th>rating</th>\n",
       "      <th>verified</th>\n",
       "      <th>reviewerID</th>\n",
       "      <th>reviewTime</th>\n",
       "      <th>itemID</th>\n",
       "    </tr>\n",
       "  </thead>\n",
       "  <tbody>\n",
       "    <tr>\n",
       "      <td>0</td>\n",
       "      <td>1</td>\n",
       "      <td>True</td>\n",
       "      <td>A1V6B6TNIC10QE</td>\n",
       "      <td>02 19, 2015</td>\n",
       "      <td>0143026860</td>\n",
       "    </tr>\n",
       "    <tr>\n",
       "      <td>1</td>\n",
       "      <td>4</td>\n",
       "      <td>True</td>\n",
       "      <td>A2F5GHSXFQ0W6J</td>\n",
       "      <td>12 18, 2014</td>\n",
       "      <td>0143026860</td>\n",
       "    </tr>\n",
       "    <tr>\n",
       "      <td>2</td>\n",
       "      <td>4</td>\n",
       "      <td>True</td>\n",
       "      <td>A1572GUYS7DGSR</td>\n",
       "      <td>08 10, 2014</td>\n",
       "      <td>0143026860</td>\n",
       "    </tr>\n",
       "    <tr>\n",
       "      <td>3</td>\n",
       "      <td>5</td>\n",
       "      <td>True</td>\n",
       "      <td>A1PSGLFK1NSVO</td>\n",
       "      <td>03 11, 2013</td>\n",
       "      <td>0143026860</td>\n",
       "    </tr>\n",
       "    <tr>\n",
       "      <td>4</td>\n",
       "      <td>5</td>\n",
       "      <td>True</td>\n",
       "      <td>A6IKXKZMTKGSC</td>\n",
       "      <td>12 25, 2011</td>\n",
       "      <td>0143026860</td>\n",
       "    </tr>\n",
       "  </tbody>\n",
       "</table>\n",
       "</div>"
      ],
      "text/plain": [
       "   rating  verified      reviewerID   reviewTime      itemID\n",
       "0       1      True  A1V6B6TNIC10QE  02 19, 2015  0143026860\n",
       "1       4      True  A2F5GHSXFQ0W6J  12 18, 2014  0143026860\n",
       "2       4      True  A1572GUYS7DGSR  08 10, 2014  0143026860\n",
       "3       5      True   A1PSGLFK1NSVO  03 11, 2013  0143026860\n",
       "4       5      True   A6IKXKZMTKGSC  12 25, 2011  0143026860"
      ]
     },
     "execution_count": 21,
     "metadata": {},
     "output_type": "execute_result"
    }
   ],
   "source": [
    "# Checking the dataframe\n",
    "\n",
    "df.head()"
   ]
  },
  {
   "cell_type": "code",
   "execution_count": 24,
   "metadata": {},
   "outputs": [
    {
     "name": "stdout",
     "output_type": "stream",
     "text": [
      "<class 'pandas.core.frame.DataFrame'>\n",
      "Int64Index: 1857758 entries, 0 to 602776\n",
      "Data columns (total 5 columns):\n",
      "rating        int64\n",
      "verified      bool\n",
      "reviewerID    object\n",
      "reviewTime    object\n",
      "itemID        object\n",
      "dtypes: bool(1), int64(1), object(3)\n",
      "memory usage: 72.6+ MB\n"
     ]
    }
   ],
   "source": [
    "# Checking the info of the dataframe\n",
    "\n",
    "df.info()"
   ]
  },
  {
   "cell_type": "code",
   "execution_count": 27,
   "metadata": {},
   "outputs": [
    {
     "name": "stdout",
     "output_type": "stream",
     "text": [
      "5 1\n"
     ]
    }
   ],
   "source": [
    "# Checking max and min values of ratings\n",
    "\n",
    "print(df.rating.max(),df.rating.min())"
   ]
  },
  {
   "cell_type": "code",
   "execution_count": 57,
   "metadata": {},
   "outputs": [
    {
     "data": {
      "text/plain": [
       "array([5, 4, 2, 3, 1], dtype=int64)"
      ]
     },
     "execution_count": 57,
     "metadata": {},
     "output_type": "execute_result"
    }
   ],
   "source": [
    "# Checking if rating has any invalid entries\n",
    "\n",
    "df.rating.unique()"
   ]
  },
  {
   "cell_type": "code",
   "execution_count": 30,
   "metadata": {},
   "outputs": [],
   "source": [
    "# Converting boolean data of verified column to integer data of 0 and 1\n",
    "\n",
    "df['verified'] = df['verified'].astype(int)"
   ]
  },
  {
   "cell_type": "code",
   "execution_count": 31,
   "metadata": {},
   "outputs": [
    {
     "data": {
      "text/html": [
       "<div>\n",
       "<style scoped>\n",
       "    .dataframe tbody tr th:only-of-type {\n",
       "        vertical-align: middle;\n",
       "    }\n",
       "\n",
       "    .dataframe tbody tr th {\n",
       "        vertical-align: top;\n",
       "    }\n",
       "\n",
       "    .dataframe thead th {\n",
       "        text-align: right;\n",
       "    }\n",
       "</style>\n",
       "<table border=\"1\" class=\"dataframe\">\n",
       "  <thead>\n",
       "    <tr style=\"text-align: right;\">\n",
       "      <th></th>\n",
       "      <th>rating</th>\n",
       "      <th>verified</th>\n",
       "      <th>reviewerID</th>\n",
       "      <th>reviewTime</th>\n",
       "      <th>itemID</th>\n",
       "    </tr>\n",
       "  </thead>\n",
       "  <tbody>\n",
       "    <tr>\n",
       "      <td>0</td>\n",
       "      <td>1</td>\n",
       "      <td>1</td>\n",
       "      <td>A1V6B6TNIC10QE</td>\n",
       "      <td>02 19, 2015</td>\n",
       "      <td>0143026860</td>\n",
       "    </tr>\n",
       "    <tr>\n",
       "      <td>1</td>\n",
       "      <td>4</td>\n",
       "      <td>1</td>\n",
       "      <td>A2F5GHSXFQ0W6J</td>\n",
       "      <td>12 18, 2014</td>\n",
       "      <td>0143026860</td>\n",
       "    </tr>\n",
       "    <tr>\n",
       "      <td>2</td>\n",
       "      <td>4</td>\n",
       "      <td>1</td>\n",
       "      <td>A1572GUYS7DGSR</td>\n",
       "      <td>08 10, 2014</td>\n",
       "      <td>0143026860</td>\n",
       "    </tr>\n",
       "    <tr>\n",
       "      <td>3</td>\n",
       "      <td>5</td>\n",
       "      <td>1</td>\n",
       "      <td>A1PSGLFK1NSVO</td>\n",
       "      <td>03 11, 2013</td>\n",
       "      <td>0143026860</td>\n",
       "    </tr>\n",
       "    <tr>\n",
       "      <td>4</td>\n",
       "      <td>5</td>\n",
       "      <td>1</td>\n",
       "      <td>A6IKXKZMTKGSC</td>\n",
       "      <td>12 25, 2011</td>\n",
       "      <td>0143026860</td>\n",
       "    </tr>\n",
       "  </tbody>\n",
       "</table>\n",
       "</div>"
      ],
      "text/plain": [
       "   rating  verified      reviewerID   reviewTime      itemID\n",
       "0       1         1  A1V6B6TNIC10QE  02 19, 2015  0143026860\n",
       "1       4         1  A2F5GHSXFQ0W6J  12 18, 2014  0143026860\n",
       "2       4         1  A1572GUYS7DGSR  08 10, 2014  0143026860\n",
       "3       5         1   A1PSGLFK1NSVO  03 11, 2013  0143026860\n",
       "4       5         1   A6IKXKZMTKGSC  12 25, 2011  0143026860"
      ]
     },
     "execution_count": 31,
     "metadata": {},
     "output_type": "execute_result"
    }
   ],
   "source": [
    "# Validing the column change\n",
    "\n",
    "df.head()"
   ]
  },
  {
   "cell_type": "code",
   "execution_count": 56,
   "metadata": {},
   "outputs": [
    {
     "data": {
      "text/plain": [
       "rating        0\n",
       "verified      0\n",
       "reviewerID    0\n",
       "reviewTime    0\n",
       "itemID        0\n",
       "dtype: int64"
      ]
     },
     "execution_count": 56,
     "metadata": {},
     "output_type": "execute_result"
    }
   ],
   "source": [
    "# Checking for NaN values in the dataframe\n",
    "\n",
    "df.isnull().sum()"
   ]
  },
  {
   "cell_type": "code",
   "execution_count": 60,
   "metadata": {},
   "outputs": [
    {
     "data": {
      "text/plain": [
       "1    1689696\n",
       "0     139547\n",
       "Name: verified, dtype: int64"
      ]
     },
     "execution_count": 60,
     "metadata": {},
     "output_type": "execute_result"
    }
   ],
   "source": [
    "# Checking for invalid entried in verfied column\n",
    "\n",
    "df.verified.value_counts()"
   ]
  },
  {
   "cell_type": "code",
   "execution_count": 61,
   "metadata": {},
   "outputs": [
    {
     "data": {
      "image/png": "[encoded data removed]",
      "text/plain": [
       "<Figure size 432x288 with 1 Axes>"
      ]
     },
     "metadata": {
      "needs_background": "light"
     },
     "output_type": "display_data"
    }
   ],
   "source": [
    "# Visualizing ratings\n",
    "\n",
    "plt.hist(df.rating, 5, alpha=1);"
   ]
  },
  {
   "cell_type": "code",
   "execution_count": 62,
   "metadata": {},
   "outputs": [
    {
     "data": {
      "image/png": "[encoded data removed]",
      "text/plain": [
       "<Figure size 432x288 with 1 Axes>"
      ]
     },
     "metadata": {
      "needs_background": "light"
     },
     "output_type": "display_data"
    }
   ],
   "source": [
    "# Visualizing ratings\n",
    "\n",
    "plt.hist(df[df.verified==0].rating, 5, alpha=1);"
   ]
  },
  {
   "cell_type": "code",
   "execution_count": 63,
   "metadata": {},
   "outputs": [
    {
     "data": {
      "image/png": "[encoded data removed]",
      "text/plain": [
       "<Figure size 432x288 with 1 Axes>"
      ]
     },
     "metadata": {
      "needs_background": "light"
     },
     "output_type": "display_data"
    }
   ],
   "source": [
    "# Visualizing ratings\n",
    "\n",
    "plt.hist(df[df.verified==1].rating, 5, alpha=1);"
   ]
  },
  {
   "cell_type": "markdown",
   "metadata": {},
   "source": [
    "Looking at the histogram we can see that non verified users show a bigger 1 rating which could be impacting the overall low ratings for the products. This is a business call to handle this data to be removed or kept."
   ]
  },
  {
   "cell_type": "code",
   "execution_count": 38,
   "metadata": {},
   "outputs": [
    {
     "data": {
      "text/html": [
       "<div>\n",
       "<style scoped>\n",
       "    .dataframe tbody tr th:only-of-type {\n",
       "        vertical-align: middle;\n",
       "    }\n",
       "\n",
       "    .dataframe tbody tr th {\n",
       "        vertical-align: top;\n",
       "    }\n",
       "\n",
       "    .dataframe thead th {\n",
       "        text-align: right;\n",
       "    }\n",
       "</style>\n",
       "<table border=\"1\" class=\"dataframe\">\n",
       "  <thead>\n",
       "    <tr style=\"text-align: right;\">\n",
       "      <th></th>\n",
       "      <th>rating</th>\n",
       "      <th>verified</th>\n",
       "      <th>reviewerID</th>\n",
       "      <th>reviewTime</th>\n",
       "      <th>itemID</th>\n",
       "    </tr>\n",
       "  </thead>\n",
       "  <tbody>\n",
       "    <tr>\n",
       "      <td>6905</td>\n",
       "      <td>4</td>\n",
       "      <td>1</td>\n",
       "      <td>ACTVXNBEPLW2S</td>\n",
       "      <td>01 25, 2015</td>\n",
       "      <td>B000052YAN</td>\n",
       "    </tr>\n",
       "    <tr>\n",
       "      <td>7166</td>\n",
       "      <td>5</td>\n",
       "      <td>1</td>\n",
       "      <td>A3AMP8ZS2WQ94N</td>\n",
       "      <td>11 19, 2014</td>\n",
       "      <td>B0000530HU</td>\n",
       "    </tr>\n",
       "    <tr>\n",
       "      <td>9557</td>\n",
       "      <td>5</td>\n",
       "      <td>0</td>\n",
       "      <td>A1CJPRUT6GHTGO</td>\n",
       "      <td>01 30, 2007</td>\n",
       "      <td>B000067E30</td>\n",
       "    </tr>\n",
       "    <tr>\n",
       "      <td>11543</td>\n",
       "      <td>2</td>\n",
       "      <td>0</td>\n",
       "      <td>A6HO1UBMBOZTY</td>\n",
       "      <td>09 13, 2006</td>\n",
       "      <td>B00009RB0Z</td>\n",
       "    </tr>\n",
       "    <tr>\n",
       "      <td>12224</td>\n",
       "      <td>3</td>\n",
       "      <td>1</td>\n",
       "      <td>A2LHFW4Q0UWIFA</td>\n",
       "      <td>10 26, 2016</td>\n",
       "      <td>B00011QUDE</td>\n",
       "    </tr>\n",
       "  </tbody>\n",
       "</table>\n",
       "</div>"
      ],
      "text/plain": [
       "       rating  verified      reviewerID   reviewTime      itemID\n",
       "6905        4         1   ACTVXNBEPLW2S  01 25, 2015  B000052YAN\n",
       "7166        5         1  A3AMP8ZS2WQ94N  11 19, 2014  B0000530HU\n",
       "9557        5         0  A1CJPRUT6GHTGO  01 30, 2007  B000067E30\n",
       "11543       2         0   A6HO1UBMBOZTY  09 13, 2006  B00009RB0Z\n",
       "12224       3         1  A2LHFW4Q0UWIFA  10 26, 2016  B00011QUDE"
      ]
     },
     "execution_count": 38,
     "metadata": {},
     "output_type": "execute_result"
    }
   ],
   "source": [
    "# Checking for duplicate values \n",
    "\n",
    "df[df.duplicated(subset=['rating','reviewerID','reviewTime','itemID'], keep='first')].head()"
   ]
  },
  {
   "cell_type": "code",
   "execution_count": 41,
   "metadata": {},
   "outputs": [
    {
     "data": {
      "text/html": [
       "<div>\n",
       "<style scoped>\n",
       "    .dataframe tbody tr th:only-of-type {\n",
       "        vertical-align: middle;\n",
       "    }\n",
       "\n",
       "    .dataframe tbody tr th {\n",
       "        vertical-align: top;\n",
       "    }\n",
       "\n",
       "    .dataframe thead th {\n",
       "        text-align: right;\n",
       "    }\n",
       "</style>\n",
       "<table border=\"1\" class=\"dataframe\">\n",
       "  <thead>\n",
       "    <tr style=\"text-align: right;\">\n",
       "      <th></th>\n",
       "      <th>rating</th>\n",
       "      <th>verified</th>\n",
       "      <th>reviewerID</th>\n",
       "      <th>reviewTime</th>\n",
       "      <th>itemID</th>\n",
       "    </tr>\n",
       "  </thead>\n",
       "  <tbody>\n",
       "    <tr>\n",
       "      <td>6904</td>\n",
       "      <td>4</td>\n",
       "      <td>1</td>\n",
       "      <td>ACTVXNBEPLW2S</td>\n",
       "      <td>01 25, 2015</td>\n",
       "      <td>B000052YAN</td>\n",
       "    </tr>\n",
       "    <tr>\n",
       "      <td>6905</td>\n",
       "      <td>4</td>\n",
       "      <td>1</td>\n",
       "      <td>ACTVXNBEPLW2S</td>\n",
       "      <td>01 25, 2015</td>\n",
       "      <td>B000052YAN</td>\n",
       "    </tr>\n",
       "    <tr>\n",
       "      <td>32550</td>\n",
       "      <td>5</td>\n",
       "      <td>1</td>\n",
       "      <td>ACTVXNBEPLW2S</td>\n",
       "      <td>05 9, 2014</td>\n",
       "      <td>B000GGFZLC</td>\n",
       "    </tr>\n",
       "  </tbody>\n",
       "</table>\n",
       "</div>"
      ],
      "text/plain": [
       "       rating  verified     reviewerID   reviewTime      itemID\n",
       "6904        4         1  ACTVXNBEPLW2S  01 25, 2015  B000052YAN\n",
       "6905        4         1  ACTVXNBEPLW2S  01 25, 2015  B000052YAN\n",
       "32550       5         1  ACTVXNBEPLW2S   05 9, 2014  B000GGFZLC"
      ]
     },
     "execution_count": 41,
     "metadata": {},
     "output_type": "execute_result"
    }
   ],
   "source": [
    "# Validating duplicate results\n",
    "\n",
    "df[df.reviewerID=='ACTVXNBEPLW2S']"
   ]
  },
  {
   "cell_type": "markdown",
   "metadata": {},
   "source": [
    "There are several duplicate recording in the dataframe. These duplicate records will be removed, however while doing so we make sure that one entry is retained and all other duplicates will be removed."
   ]
  },
  {
   "cell_type": "code",
   "execution_count": 43,
   "metadata": {},
   "outputs": [],
   "source": [
    "# Sorting the values based on reviewTime\n",
    "\n",
    "df.sort_values(\"reviewTime\", ascending= [0], inplace=True)"
   ]
  },
  {
   "cell_type": "code",
   "execution_count": 45,
   "metadata": {},
   "outputs": [
    {
     "data": {
      "text/html": [
       "<div>\n",
       "<style scoped>\n",
       "    .dataframe tbody tr th:only-of-type {\n",
       "        vertical-align: middle;\n",
       "    }\n",
       "\n",
       "    .dataframe tbody tr th {\n",
       "        vertical-align: top;\n",
       "    }\n",
       "\n",
       "    .dataframe thead th {\n",
       "        text-align: right;\n",
       "    }\n",
       "</style>\n",
       "<table border=\"1\" class=\"dataframe\">\n",
       "  <thead>\n",
       "    <tr style=\"text-align: right;\">\n",
       "      <th></th>\n",
       "      <th>rating</th>\n",
       "      <th>verified</th>\n",
       "      <th>reviewerID</th>\n",
       "      <th>reviewTime</th>\n",
       "      <th>itemID</th>\n",
       "    </tr>\n",
       "  </thead>\n",
       "  <tbody>\n",
       "    <tr>\n",
       "      <td>492858</td>\n",
       "      <td>5</td>\n",
       "      <td>1</td>\n",
       "      <td>A2NU79MV53K6QC</td>\n",
       "      <td>12 9, 2017</td>\n",
       "      <td>B003DA62RO</td>\n",
       "    </tr>\n",
       "    <tr>\n",
       "      <td>155958</td>\n",
       "      <td>5</td>\n",
       "      <td>1</td>\n",
       "      <td>A3GEVGOC9H36LL</td>\n",
       "      <td>12 9, 2017</td>\n",
       "      <td>B00HNK96UK</td>\n",
       "    </tr>\n",
       "    <tr>\n",
       "      <td>410390</td>\n",
       "      <td>5</td>\n",
       "      <td>1</td>\n",
       "      <td>A2GMFY423DP50</td>\n",
       "      <td>12 9, 2017</td>\n",
       "      <td>B00319B2K4</td>\n",
       "    </tr>\n",
       "    <tr>\n",
       "      <td>366153</td>\n",
       "      <td>4</td>\n",
       "      <td>1</td>\n",
       "      <td>A3993649BUWPHY</td>\n",
       "      <td>12 9, 2017</td>\n",
       "      <td>B00UIZLE48</td>\n",
       "    </tr>\n",
       "    <tr>\n",
       "      <td>350051</td>\n",
       "      <td>5</td>\n",
       "      <td>1</td>\n",
       "      <td>AYDQ9IJCYCQAG</td>\n",
       "      <td>12 9, 2017</td>\n",
       "      <td>B00OP8991Y</td>\n",
       "    </tr>\n",
       "  </tbody>\n",
       "</table>\n",
       "</div>"
      ],
      "text/plain": [
       "        rating  verified      reviewerID  reviewTime      itemID\n",
       "492858       5         1  A2NU79MV53K6QC  12 9, 2017  B003DA62RO\n",
       "155958       5         1  A3GEVGOC9H36LL  12 9, 2017  B00HNK96UK\n",
       "410390       5         1   A2GMFY423DP50  12 9, 2017  B00319B2K4\n",
       "366153       4         1  A3993649BUWPHY  12 9, 2017  B00UIZLE48\n",
       "350051       5         1   AYDQ9IJCYCQAG  12 9, 2017  B00OP8991Y"
      ]
     },
     "execution_count": 45,
     "metadata": {},
     "output_type": "execute_result"
    }
   ],
   "source": [
    "# Validating the sort\n",
    "\n",
    "df.head()"
   ]
  },
  {
   "cell_type": "code",
   "execution_count": 47,
   "metadata": {},
   "outputs": [
    {
     "data": {
      "text/plain": [
       "1857758"
      ]
     },
     "execution_count": 47,
     "metadata": {},
     "output_type": "execute_result"
    }
   ],
   "source": [
    "# Checking the length of dataframe before removing duplicates\n",
    "\n",
    "len(df)"
   ]
  },
  {
   "cell_type": "code",
   "execution_count": 48,
   "metadata": {},
   "outputs": [],
   "source": [
    "# Removing the duplicates while keeping the first value of the duplicates\n",
    "\n",
    "df.drop_duplicates(keep='first',inplace=True) "
   ]
  },
  {
   "cell_type": "code",
   "execution_count": 49,
   "metadata": {},
   "outputs": [
    {
     "data": {
      "text/plain": [
       "1829243"
      ]
     },
     "execution_count": 49,
     "metadata": {},
     "output_type": "execute_result"
    }
   ],
   "source": [
    "# Checking the length of dataframe after removing duplicates\n",
    "\n",
    "len(df)"
   ]
  },
  {
   "cell_type": "code",
   "execution_count": 52,
   "metadata": {},
   "outputs": [
    {
     "data": {
      "text/html": [
       "<div>\n",
       "<style scoped>\n",
       "    .dataframe tbody tr th:only-of-type {\n",
       "        vertical-align: middle;\n",
       "    }\n",
       "\n",
       "    .dataframe tbody tr th {\n",
       "        vertical-align: top;\n",
       "    }\n",
       "\n",
       "    .dataframe thead th {\n",
       "        text-align: right;\n",
       "    }\n",
       "</style>\n",
       "<table border=\"1\" class=\"dataframe\">\n",
       "  <thead>\n",
       "    <tr style=\"text-align: right;\">\n",
       "      <th></th>\n",
       "      <th>rating</th>\n",
       "      <th>verified</th>\n",
       "      <th>reviewerID</th>\n",
       "      <th>reviewTime</th>\n",
       "      <th>itemID</th>\n",
       "    </tr>\n",
       "  </thead>\n",
       "  <tbody>\n",
       "    <tr>\n",
       "      <td>32550</td>\n",
       "      <td>5</td>\n",
       "      <td>1</td>\n",
       "      <td>ACTVXNBEPLW2S</td>\n",
       "      <td>05 9, 2014</td>\n",
       "      <td>B000GGFZLC</td>\n",
       "    </tr>\n",
       "    <tr>\n",
       "      <td>6904</td>\n",
       "      <td>4</td>\n",
       "      <td>1</td>\n",
       "      <td>ACTVXNBEPLW2S</td>\n",
       "      <td>01 25, 2015</td>\n",
       "      <td>B000052YAN</td>\n",
       "    </tr>\n",
       "  </tbody>\n",
       "</table>\n",
       "</div>"
      ],
      "text/plain": [
       "       rating  verified     reviewerID   reviewTime      itemID\n",
       "32550       5         1  ACTVXNBEPLW2S   05 9, 2014  B000GGFZLC\n",
       "6904        4         1  ACTVXNBEPLW2S  01 25, 2015  B000052YAN"
      ]
     },
     "execution_count": 52,
     "metadata": {},
     "output_type": "execute_result"
    }
   ],
   "source": [
    "# Validating to see if duplicates are removed\n",
    "\n",
    "df[df.reviewerID=='ACTVXNBEPLW2S']"
   ]
  },
  {
   "cell_type": "markdown",
   "metadata": {},
   "source": [
    "### For New Customers\n",
    "\n",
    "#### Popularity based model\n",
    "\n",
    "Since a new customer will not have any historical data the right approach to recommend the products is by making use of the popularity based model. This model will have all the items which got the highest rating and at the top."
   ]
  },
  {
   "cell_type": "code",
   "execution_count": 64,
   "metadata": {
    "scrolled": true
   },
   "outputs": [],
   "source": [
    "# Creating a new dataframe and creating the count per item and mean rating per item\n",
    "\n",
    "df2 = pd.DataFrame({'count':df.groupby('itemID')['rating'].count(),'ratingMean':df.groupby('itemID')['rating'].mean()}).reset_index()"
   ]
  },
  {
   "cell_type": "code",
   "execution_count": 65,
   "metadata": {},
   "outputs": [
    {
     "name": "stdout",
     "output_type": "stream",
     "text": [
      "8668 1\n"
     ]
    }
   ],
   "source": [
    "# Printing the maximum count and minimum count values\n",
    "\n",
    "print(df2['count'].max(), df2['count'].min())"
   ]
  },
  {
   "cell_type": "code",
   "execution_count": 66,
   "metadata": {},
   "outputs": [
    {
     "name": "stdout",
     "output_type": "stream",
     "text": [
      "249027 248717\n"
     ]
    }
   ],
   "source": [
    "# Printing the record count and the items who got less than 500 ratings\n",
    "\n",
    "print(len(df2), len(df2[df2['count']<500]))"
   ]
  },
  {
   "cell_type": "code",
   "execution_count": 68,
   "metadata": {},
   "outputs": [],
   "source": [
    "# Getting the items which has ratings greater than 500 and mean rating greater than 4. Again this could be a business call\n",
    "\n",
    "df2 = df2[(df2['count']>500) & (df2['ratingMean']>=4.0)]"
   ]
  },
  {
   "cell_type": "code",
   "execution_count": 69,
   "metadata": {},
   "outputs": [
    {
     "name": "stdout",
     "output_type": "stream",
     "text": [
      "8668 505\n"
     ]
    }
   ],
   "source": [
    "# Printing the maximum and minimum ratigs count\n",
    "\n",
    "print(df2['count'].max(), df2['count'].min())"
   ]
  },
  {
   "cell_type": "code",
   "execution_count": 71,
   "metadata": {},
   "outputs": [],
   "source": [
    "# Sorting dataframe by rating mean in descending order\n",
    "\n",
    "df2 = pd.DataFrame(df2.sort_values(by = ['ratingMean'], ascending= False))"
   ]
  },
  {
   "cell_type": "code",
   "execution_count": 72,
   "metadata": {},
   "outputs": [
    {
     "data": {
      "text/html": [
       "<div>\n",
       "<style scoped>\n",
       "    .dataframe tbody tr th:only-of-type {\n",
       "        vertical-align: middle;\n",
       "    }\n",
       "\n",
       "    .dataframe tbody tr th {\n",
       "        vertical-align: top;\n",
       "    }\n",
       "\n",
       "    .dataframe thead th {\n",
       "        text-align: right;\n",
       "    }\n",
       "</style>\n",
       "<table border=\"1\" class=\"dataframe\">\n",
       "  <thead>\n",
       "    <tr style=\"text-align: right;\">\n",
       "      <th></th>\n",
       "      <th>itemID</th>\n",
       "      <th>count</th>\n",
       "      <th>ratingMean</th>\n",
       "    </tr>\n",
       "  </thead>\n",
       "  <tbody>\n",
       "    <tr>\n",
       "      <td>1906</td>\n",
       "      <td>B0009RF9DW</td>\n",
       "      <td>772</td>\n",
       "      <td>4.933938</td>\n",
       "    </tr>\n",
       "    <tr>\n",
       "      <td>2913</td>\n",
       "      <td>B000FI4S1E</td>\n",
       "      <td>773</td>\n",
       "      <td>4.931436</td>\n",
       "    </tr>\n",
       "    <tr>\n",
       "      <td>46577</td>\n",
       "      <td>B00DM8J11Q</td>\n",
       "      <td>1416</td>\n",
       "      <td>4.868644</td>\n",
       "    </tr>\n",
       "    <tr>\n",
       "      <td>7478</td>\n",
       "      <td>B0012Y0ZG2</td>\n",
       "      <td>1101</td>\n",
       "      <td>4.852861</td>\n",
       "    </tr>\n",
       "    <tr>\n",
       "      <td>26947</td>\n",
       "      <td>B006H7HB7K</td>\n",
       "      <td>526</td>\n",
       "      <td>4.851711</td>\n",
       "    </tr>\n",
       "    <tr>\n",
       "      <td>200880</td>\n",
       "      <td>B01B5BWTNS</td>\n",
       "      <td>528</td>\n",
       "      <td>4.844697</td>\n",
       "    </tr>\n",
       "    <tr>\n",
       "      <td>21677</td>\n",
       "      <td>B0053F80JA</td>\n",
       "      <td>1366</td>\n",
       "      <td>4.838946</td>\n",
       "    </tr>\n",
       "    <tr>\n",
       "      <td>6230</td>\n",
       "      <td>B000URXP6E</td>\n",
       "      <td>1003</td>\n",
       "      <td>4.838485</td>\n",
       "    </tr>\n",
       "    <tr>\n",
       "      <td>111843</td>\n",
       "      <td>B00RLSCLJM</td>\n",
       "      <td>3529</td>\n",
       "      <td>4.826296</td>\n",
       "    </tr>\n",
       "    <tr>\n",
       "      <td>243</td>\n",
       "      <td>B00006L9LC</td>\n",
       "      <td>712</td>\n",
       "      <td>4.814607</td>\n",
       "    </tr>\n",
       "    <tr>\n",
       "      <td>64878</td>\n",
       "      <td>B00I0WOAI8</td>\n",
       "      <td>541</td>\n",
       "      <td>4.813309</td>\n",
       "    </tr>\n",
       "    <tr>\n",
       "      <td>22925</td>\n",
       "      <td>B005AR75A6</td>\n",
       "      <td>538</td>\n",
       "      <td>4.812268</td>\n",
       "    </tr>\n",
       "    <tr>\n",
       "      <td>57466</td>\n",
       "      <td>B00G8Q7JZ4</td>\n",
       "      <td>629</td>\n",
       "      <td>4.802862</td>\n",
       "    </tr>\n",
       "    <tr>\n",
       "      <td>62</td>\n",
       "      <td>1620213982</td>\n",
       "      <td>4792</td>\n",
       "      <td>4.798414</td>\n",
       "    </tr>\n",
       "    <tr>\n",
       "      <td>14730</td>\n",
       "      <td>B002Z3N1HE</td>\n",
       "      <td>1189</td>\n",
       "      <td>4.793103</td>\n",
       "    </tr>\n",
       "  </tbody>\n",
       "</table>\n",
       "</div>"
      ],
      "text/plain": [
       "            itemID  count  ratingMean\n",
       "1906    B0009RF9DW    772    4.933938\n",
       "2913    B000FI4S1E    773    4.931436\n",
       "46577   B00DM8J11Q   1416    4.868644\n",
       "7478    B0012Y0ZG2   1101    4.852861\n",
       "26947   B006H7HB7K    526    4.851711\n",
       "200880  B01B5BWTNS    528    4.844697\n",
       "21677   B0053F80JA   1366    4.838946\n",
       "6230    B000URXP6E   1003    4.838485\n",
       "111843  B00RLSCLJM   3529    4.826296\n",
       "243     B00006L9LC    712    4.814607\n",
       "64878   B00I0WOAI8    541    4.813309\n",
       "22925   B005AR75A6    538    4.812268\n",
       "57466   B00G8Q7JZ4    629    4.802862\n",
       "62      1620213982   4792    4.798414\n",
       "14730   B002Z3N1HE   1189    4.793103"
      ]
     },
     "execution_count": 72,
     "metadata": {},
     "output_type": "execute_result"
    }
   ],
   "source": [
    "# Printing the top 15 records of the popular products\n",
    "\n",
    "df2.head(15)"
   ]
  },
  {
   "cell_type": "markdown",
   "metadata": {},
   "source": [
    "### Collaborative Filtering\n",
    "\n",
    "Collaborative filtering is a technique that can filter out items that a user might like on the basis of reactions by similar users.\n",
    "\n",
    "It works by searching a large group of people and finding a smaller set of users with tastes similar to a particular user. It looks at the items they like and combines them to create a ranked list of suggestions. Here we use the SVD approach to provide product recommendations based on item.\n",
    "\n",
    "#### SVD - Singular Value Decomposition\n",
    "\n",
    "One of the popular algorithms to factorize a matrix is the singular value decomposition(SVD) algorithm. First I build a user-item matrix. Then we decompose this matrix using SVD to extract constituent arrays of feature vectors and correlation out of it."
   ]
  },
  {
   "cell_type": "code",
   "execution_count": 74,
   "metadata": {},
   "outputs": [],
   "source": [
    "# Filtering out the values with user ratings which are less than 50\n",
    "\n",
    "df3 = df.groupby('itemID').filter(lambda x:x['rating'].count()>50)"
   ]
  },
  {
   "cell_type": "code",
   "execution_count": 78,
   "metadata": {},
   "outputs": [],
   "source": [
    "# Getting a subset of the data\n",
    "\n",
    "df4 = df3.head(10000)"
   ]
  },
  {
   "cell_type": "code",
   "execution_count": 79,
   "metadata": {},
   "outputs": [
    {
     "name": "stdout",
     "output_type": "stream",
     "text": [
      "941800 10000\n"
     ]
    }
   ],
   "source": [
    "# Checking the record counts\n",
    "\n",
    "print(len(df3), len(df4))"
   ]
  },
  {
   "cell_type": "code",
   "execution_count": 80,
   "metadata": {},
   "outputs": [],
   "source": [
    "# Creating the utility matrix with reviewerID and itemID\n",
    "\n",
    "utility_matrix =df4.pivot_table(values='rating', index='reviewerID', columns='itemID', fill_value=0)"
   ]
  },
  {
   "cell_type": "code",
   "execution_count": 82,
   "metadata": {},
   "outputs": [
    {
     "data": {
      "text/html": [
       "<div>\n",
       "<style scoped>\n",
       "    .dataframe tbody tr th:only-of-type {\n",
       "        vertical-align: middle;\n",
       "    }\n",
       "\n",
       "    .dataframe tbody tr th {\n",
       "        vertical-align: top;\n",
       "    }\n",
       "\n",
       "    .dataframe thead th {\n",
       "        text-align: right;\n",
       "    }\n",
       "</style>\n",
       "<table border=\"1\" class=\"dataframe\">\n",
       "  <thead>\n",
       "    <tr style=\"text-align: right;\">\n",
       "      <th>itemID</th>\n",
       "      <th>1620213982</th>\n",
       "      <th>B00004YWK2</th>\n",
       "      <th>B000050B6H</th>\n",
       "      <th>B000050FDY</th>\n",
       "      <th>B000052YAN</th>\n",
       "      <th>B0000530HU</th>\n",
       "      <th>B00005JS5C</th>\n",
       "      <th>B00005OU6T</th>\n",
       "      <th>B000068PBJ</th>\n",
       "      <th>B00006IV17</th>\n",
       "      <th>...</th>\n",
       "      <th>B01H8A05N6</th>\n",
       "      <th>B01HBLM8EQ</th>\n",
       "      <th>B01HBPGP28</th>\n",
       "      <th>B01HBSH2EK</th>\n",
       "      <th>B01HC6G4D6</th>\n",
       "      <th>B01HC7ZP1M</th>\n",
       "      <th>B01HC9ONI6</th>\n",
       "      <th>B01HDZ4OOM</th>\n",
       "      <th>B01HEISONU</th>\n",
       "      <th>B01HI7K476</th>\n",
       "    </tr>\n",
       "    <tr>\n",
       "      <th>reviewerID</th>\n",
       "      <th></th>\n",
       "      <th></th>\n",
       "      <th></th>\n",
       "      <th></th>\n",
       "      <th></th>\n",
       "      <th></th>\n",
       "      <th></th>\n",
       "      <th></th>\n",
       "      <th></th>\n",
       "      <th></th>\n",
       "      <th></th>\n",
       "      <th></th>\n",
       "      <th></th>\n",
       "      <th></th>\n",
       "      <th></th>\n",
       "      <th></th>\n",
       "      <th></th>\n",
       "      <th></th>\n",
       "      <th></th>\n",
       "      <th></th>\n",
       "      <th></th>\n",
       "    </tr>\n",
       "  </thead>\n",
       "  <tbody>\n",
       "    <tr>\n",
       "      <td>A0090831Q386KET36YQW</td>\n",
       "      <td>0</td>\n",
       "      <td>0</td>\n",
       "      <td>0</td>\n",
       "      <td>0</td>\n",
       "      <td>0</td>\n",
       "      <td>0</td>\n",
       "      <td>0</td>\n",
       "      <td>0</td>\n",
       "      <td>0</td>\n",
       "      <td>0</td>\n",
       "      <td>...</td>\n",
       "      <td>0</td>\n",
       "      <td>0</td>\n",
       "      <td>0</td>\n",
       "      <td>0</td>\n",
       "      <td>0</td>\n",
       "      <td>0</td>\n",
       "      <td>0</td>\n",
       "      <td>0</td>\n",
       "      <td>0</td>\n",
       "      <td>0</td>\n",
       "    </tr>\n",
       "    <tr>\n",
       "      <td>A0122375SQ8Z42DUL03J</td>\n",
       "      <td>0</td>\n",
       "      <td>0</td>\n",
       "      <td>0</td>\n",
       "      <td>0</td>\n",
       "      <td>0</td>\n",
       "      <td>0</td>\n",
       "      <td>0</td>\n",
       "      <td>0</td>\n",
       "      <td>0</td>\n",
       "      <td>0</td>\n",
       "      <td>...</td>\n",
       "      <td>0</td>\n",
       "      <td>0</td>\n",
       "      <td>0</td>\n",
       "      <td>0</td>\n",
       "      <td>0</td>\n",
       "      <td>0</td>\n",
       "      <td>0</td>\n",
       "      <td>0</td>\n",
       "      <td>0</td>\n",
       "      <td>0</td>\n",
       "    </tr>\n",
       "    <tr>\n",
       "      <td>A0207585A6YBSJJPD5FS</td>\n",
       "      <td>0</td>\n",
       "      <td>0</td>\n",
       "      <td>0</td>\n",
       "      <td>0</td>\n",
       "      <td>0</td>\n",
       "      <td>0</td>\n",
       "      <td>0</td>\n",
       "      <td>0</td>\n",
       "      <td>0</td>\n",
       "      <td>0</td>\n",
       "      <td>...</td>\n",
       "      <td>0</td>\n",
       "      <td>0</td>\n",
       "      <td>0</td>\n",
       "      <td>0</td>\n",
       "      <td>0</td>\n",
       "      <td>0</td>\n",
       "      <td>0</td>\n",
       "      <td>0</td>\n",
       "      <td>0</td>\n",
       "      <td>0</td>\n",
       "    </tr>\n",
       "    <tr>\n",
       "      <td>A0634459IUT5LVFM9YZZ</td>\n",
       "      <td>0</td>\n",
       "      <td>0</td>\n",
       "      <td>0</td>\n",
       "      <td>0</td>\n",
       "      <td>0</td>\n",
       "      <td>0</td>\n",
       "      <td>0</td>\n",
       "      <td>0</td>\n",
       "      <td>0</td>\n",
       "      <td>0</td>\n",
       "      <td>...</td>\n",
       "      <td>0</td>\n",
       "      <td>0</td>\n",
       "      <td>0</td>\n",
       "      <td>0</td>\n",
       "      <td>0</td>\n",
       "      <td>0</td>\n",
       "      <td>0</td>\n",
       "      <td>0</td>\n",
       "      <td>0</td>\n",
       "      <td>0</td>\n",
       "    </tr>\n",
       "    <tr>\n",
       "      <td>A1000I7I07B7OI</td>\n",
       "      <td>0</td>\n",
       "      <td>0</td>\n",
       "      <td>0</td>\n",
       "      <td>0</td>\n",
       "      <td>0</td>\n",
       "      <td>0</td>\n",
       "      <td>0</td>\n",
       "      <td>0</td>\n",
       "      <td>0</td>\n",
       "      <td>0</td>\n",
       "      <td>...</td>\n",
       "      <td>0</td>\n",
       "      <td>0</td>\n",
       "      <td>0</td>\n",
       "      <td>0</td>\n",
       "      <td>0</td>\n",
       "      <td>0</td>\n",
       "      <td>0</td>\n",
       "      <td>0</td>\n",
       "      <td>0</td>\n",
       "      <td>0</td>\n",
       "    </tr>\n",
       "  </tbody>\n",
       "</table>\n",
       "<p>5 rows × 3332 columns</p>\n",
       "</div>"
      ],
      "text/plain": [
       "itemID                1620213982  B00004YWK2  B000050B6H  B000050FDY  \\\n",
       "reviewerID                                                             \n",
       "A0090831Q386KET36YQW           0           0           0           0   \n",
       "A0122375SQ8Z42DUL03J           0           0           0           0   \n",
       "A0207585A6YBSJJPD5FS           0           0           0           0   \n",
       "A0634459IUT5LVFM9YZZ           0           0           0           0   \n",
       "A1000I7I07B7OI                 0           0           0           0   \n",
       "\n",
       "itemID                B000052YAN  B0000530HU  B00005JS5C  B00005OU6T  \\\n",
       "reviewerID                                                             \n",
       "A0090831Q386KET36YQW           0           0           0           0   \n",
       "A0122375SQ8Z42DUL03J           0           0           0           0   \n",
       "A0207585A6YBSJJPD5FS           0           0           0           0   \n",
       "A0634459IUT5LVFM9YZZ           0           0           0           0   \n",
       "A1000I7I07B7OI                 0           0           0           0   \n",
       "\n",
       "itemID                B000068PBJ  B00006IV17  ...  B01H8A05N6  B01HBLM8EQ  \\\n",
       "reviewerID                                    ...                           \n",
       "A0090831Q386KET36YQW           0           0  ...           0           0   \n",
       "A0122375SQ8Z42DUL03J           0           0  ...           0           0   \n",
       "A0207585A6YBSJJPD5FS           0           0  ...           0           0   \n",
       "A0634459IUT5LVFM9YZZ           0           0  ...           0           0   \n",
       "A1000I7I07B7OI                 0           0  ...           0           0   \n",
       "\n",
       "itemID                B01HBPGP28  B01HBSH2EK  B01HC6G4D6  B01HC7ZP1M  \\\n",
       "reviewerID                                                             \n",
       "A0090831Q386KET36YQW           0           0           0           0   \n",
       "A0122375SQ8Z42DUL03J           0           0           0           0   \n",
       "A0207585A6YBSJJPD5FS           0           0           0           0   \n",
       "A0634459IUT5LVFM9YZZ           0           0           0           0   \n",
       "A1000I7I07B7OI                 0           0           0           0   \n",
       "\n",
       "itemID                B01HC9ONI6  B01HDZ4OOM  B01HEISONU  B01HI7K476  \n",
       "reviewerID                                                            \n",
       "A0090831Q386KET36YQW           0           0           0           0  \n",
       "A0122375SQ8Z42DUL03J           0           0           0           0  \n",
       "A0207585A6YBSJJPD5FS           0           0           0           0  \n",
       "A0634459IUT5LVFM9YZZ           0           0           0           0  \n",
       "A1000I7I07B7OI                 0           0           0           0  \n",
       "\n",
       "[5 rows x 3332 columns]"
      ]
     },
     "execution_count": 82,
     "metadata": {},
     "output_type": "execute_result"
    }
   ],
   "source": [
    "# Checking the utility matrix\n",
    "\n",
    "utility_matrix.head()"
   ]
  },
  {
   "cell_type": "code",
   "execution_count": 83,
   "metadata": {},
   "outputs": [
    {
     "data": {
      "text/plain": [
       "(9343, 3332)"
      ]
     },
     "execution_count": 83,
     "metadata": {},
     "output_type": "execute_result"
    }
   ],
   "source": [
    "# Checking the shape of the utility matrix\n",
    "\n",
    "utility_matrix.shape"
   ]
  },
  {
   "cell_type": "code",
   "execution_count": 84,
   "metadata": {},
   "outputs": [
    {
     "data": {
      "text/html": [
       "<div>\n",
       "<style scoped>\n",
       "    .dataframe tbody tr th:only-of-type {\n",
       "        vertical-align: middle;\n",
       "    }\n",
       "\n",
       "    .dataframe tbody tr th {\n",
       "        vertical-align: top;\n",
       "    }\n",
       "\n",
       "    .dataframe thead th {\n",
       "        text-align: right;\n",
       "    }\n",
       "</style>\n",
       "<table border=\"1\" class=\"dataframe\">\n",
       "  <thead>\n",
       "    <tr style=\"text-align: right;\">\n",
       "      <th>reviewerID</th>\n",
       "      <th>A0090831Q386KET36YQW</th>\n",
       "      <th>A0122375SQ8Z42DUL03J</th>\n",
       "      <th>A0207585A6YBSJJPD5FS</th>\n",
       "      <th>A0634459IUT5LVFM9YZZ</th>\n",
       "      <th>A1000I7I07B7OI</th>\n",
       "      <th>A1003HDK1GHMSP</th>\n",
       "      <th>A101GQRGM79ZAX</th>\n",
       "      <th>A101LWC4TVG0VT</th>\n",
       "      <th>A101NXBK4DJ454</th>\n",
       "      <th>A102G6SC7VE2HS</th>\n",
       "      <th>...</th>\n",
       "      <th>AZW33SSW09BZ6</th>\n",
       "      <th>AZW7OWXHAHGKT</th>\n",
       "      <th>AZX1PZRBP1FJD</th>\n",
       "      <th>AZX3R9XUGMQWD</th>\n",
       "      <th>AZXFF73ZZM0FV</th>\n",
       "      <th>AZYA6NBTF2843</th>\n",
       "      <th>AZYEIBAO4SWEO</th>\n",
       "      <th>AZYNASCEZ6FXX</th>\n",
       "      <th>AZYQE4YLJCLBI</th>\n",
       "      <th>AZZSKNX254F5D</th>\n",
       "    </tr>\n",
       "    <tr>\n",
       "      <th>itemID</th>\n",
       "      <th></th>\n",
       "      <th></th>\n",
       "      <th></th>\n",
       "      <th></th>\n",
       "      <th></th>\n",
       "      <th></th>\n",
       "      <th></th>\n",
       "      <th></th>\n",
       "      <th></th>\n",
       "      <th></th>\n",
       "      <th></th>\n",
       "      <th></th>\n",
       "      <th></th>\n",
       "      <th></th>\n",
       "      <th></th>\n",
       "      <th></th>\n",
       "      <th></th>\n",
       "      <th></th>\n",
       "      <th></th>\n",
       "      <th></th>\n",
       "      <th></th>\n",
       "    </tr>\n",
       "  </thead>\n",
       "  <tbody>\n",
       "    <tr>\n",
       "      <td>1620213982</td>\n",
       "      <td>0.0</td>\n",
       "      <td>0.0</td>\n",
       "      <td>0.0</td>\n",
       "      <td>0.0</td>\n",
       "      <td>0.0</td>\n",
       "      <td>0.0</td>\n",
       "      <td>0.0</td>\n",
       "      <td>0.0</td>\n",
       "      <td>0.0</td>\n",
       "      <td>0.0</td>\n",
       "      <td>...</td>\n",
       "      <td>0.0</td>\n",
       "      <td>0.0</td>\n",
       "      <td>0.0</td>\n",
       "      <td>0.0</td>\n",
       "      <td>0.0</td>\n",
       "      <td>0.0</td>\n",
       "      <td>0.0</td>\n",
       "      <td>0.0</td>\n",
       "      <td>0.0</td>\n",
       "      <td>0.0</td>\n",
       "    </tr>\n",
       "    <tr>\n",
       "      <td>B00004YWK2</td>\n",
       "      <td>0.0</td>\n",
       "      <td>0.0</td>\n",
       "      <td>0.0</td>\n",
       "      <td>0.0</td>\n",
       "      <td>0.0</td>\n",
       "      <td>0.0</td>\n",
       "      <td>0.0</td>\n",
       "      <td>0.0</td>\n",
       "      <td>0.0</td>\n",
       "      <td>0.0</td>\n",
       "      <td>...</td>\n",
       "      <td>0.0</td>\n",
       "      <td>0.0</td>\n",
       "      <td>0.0</td>\n",
       "      <td>0.0</td>\n",
       "      <td>0.0</td>\n",
       "      <td>0.0</td>\n",
       "      <td>0.0</td>\n",
       "      <td>0.0</td>\n",
       "      <td>0.0</td>\n",
       "      <td>0.0</td>\n",
       "    </tr>\n",
       "    <tr>\n",
       "      <td>B000050B6H</td>\n",
       "      <td>0.0</td>\n",
       "      <td>0.0</td>\n",
       "      <td>0.0</td>\n",
       "      <td>0.0</td>\n",
       "      <td>0.0</td>\n",
       "      <td>0.0</td>\n",
       "      <td>0.0</td>\n",
       "      <td>0.0</td>\n",
       "      <td>0.0</td>\n",
       "      <td>0.0</td>\n",
       "      <td>...</td>\n",
       "      <td>0.0</td>\n",
       "      <td>0.0</td>\n",
       "      <td>0.0</td>\n",
       "      <td>0.0</td>\n",
       "      <td>0.0</td>\n",
       "      <td>0.0</td>\n",
       "      <td>0.0</td>\n",
       "      <td>0.0</td>\n",
       "      <td>0.0</td>\n",
       "      <td>0.0</td>\n",
       "    </tr>\n",
       "    <tr>\n",
       "      <td>B000050FDY</td>\n",
       "      <td>0.0</td>\n",
       "      <td>0.0</td>\n",
       "      <td>0.0</td>\n",
       "      <td>0.0</td>\n",
       "      <td>0.0</td>\n",
       "      <td>0.0</td>\n",
       "      <td>0.0</td>\n",
       "      <td>0.0</td>\n",
       "      <td>0.0</td>\n",
       "      <td>0.0</td>\n",
       "      <td>...</td>\n",
       "      <td>0.0</td>\n",
       "      <td>0.0</td>\n",
       "      <td>0.0</td>\n",
       "      <td>0.0</td>\n",
       "      <td>0.0</td>\n",
       "      <td>0.0</td>\n",
       "      <td>0.0</td>\n",
       "      <td>0.0</td>\n",
       "      <td>0.0</td>\n",
       "      <td>0.0</td>\n",
       "    </tr>\n",
       "    <tr>\n",
       "      <td>B000052YAN</td>\n",
       "      <td>0.0</td>\n",
       "      <td>0.0</td>\n",
       "      <td>0.0</td>\n",
       "      <td>0.0</td>\n",
       "      <td>0.0</td>\n",
       "      <td>0.0</td>\n",
       "      <td>0.0</td>\n",
       "      <td>0.0</td>\n",
       "      <td>0.0</td>\n",
       "      <td>0.0</td>\n",
       "      <td>...</td>\n",
       "      <td>0.0</td>\n",
       "      <td>0.0</td>\n",
       "      <td>0.0</td>\n",
       "      <td>0.0</td>\n",
       "      <td>0.0</td>\n",
       "      <td>0.0</td>\n",
       "      <td>0.0</td>\n",
       "      <td>0.0</td>\n",
       "      <td>0.0</td>\n",
       "      <td>0.0</td>\n",
       "    </tr>\n",
       "  </tbody>\n",
       "</table>\n",
       "<p>5 rows × 9343 columns</p>\n",
       "</div>"
      ],
      "text/plain": [
       "reviewerID  A0090831Q386KET36YQW  A0122375SQ8Z42DUL03J  A0207585A6YBSJJPD5FS  \\\n",
       "itemID                                                                         \n",
       "1620213982                   0.0                   0.0                   0.0   \n",
       "B00004YWK2                   0.0                   0.0                   0.0   \n",
       "B000050B6H                   0.0                   0.0                   0.0   \n",
       "B000050FDY                   0.0                   0.0                   0.0   \n",
       "B000052YAN                   0.0                   0.0                   0.0   \n",
       "\n",
       "reviewerID  A0634459IUT5LVFM9YZZ  A1000I7I07B7OI  A1003HDK1GHMSP  \\\n",
       "itemID                                                             \n",
       "1620213982                   0.0             0.0             0.0   \n",
       "B00004YWK2                   0.0             0.0             0.0   \n",
       "B000050B6H                   0.0             0.0             0.0   \n",
       "B000050FDY                   0.0             0.0             0.0   \n",
       "B000052YAN                   0.0             0.0             0.0   \n",
       "\n",
       "reviewerID  A101GQRGM79ZAX  A101LWC4TVG0VT  A101NXBK4DJ454  A102G6SC7VE2HS  \\\n",
       "itemID                                                                       \n",
       "1620213982             0.0             0.0             0.0             0.0   \n",
       "B00004YWK2             0.0             0.0             0.0             0.0   \n",
       "B000050B6H             0.0             0.0             0.0             0.0   \n",
       "B000050FDY             0.0             0.0             0.0             0.0   \n",
       "B000052YAN             0.0             0.0             0.0             0.0   \n",
       "\n",
       "reviewerID  ...  AZW33SSW09BZ6  AZW7OWXHAHGKT  AZX1PZRBP1FJD  AZX3R9XUGMQWD  \\\n",
       "itemID      ...                                                               \n",
       "1620213982  ...            0.0            0.0            0.0            0.0   \n",
       "B00004YWK2  ...            0.0            0.0            0.0            0.0   \n",
       "B000050B6H  ...            0.0            0.0            0.0            0.0   \n",
       "B000050FDY  ...            0.0            0.0            0.0            0.0   \n",
       "B000052YAN  ...            0.0            0.0            0.0            0.0   \n",
       "\n",
       "reviewerID  AZXFF73ZZM0FV  AZYA6NBTF2843  AZYEIBAO4SWEO  AZYNASCEZ6FXX  \\\n",
       "itemID                                                                   \n",
       "1620213982            0.0            0.0            0.0            0.0   \n",
       "B00004YWK2            0.0            0.0            0.0            0.0   \n",
       "B000050B6H            0.0            0.0            0.0            0.0   \n",
       "B000050FDY            0.0            0.0            0.0            0.0   \n",
       "B000052YAN            0.0            0.0            0.0            0.0   \n",
       "\n",
       "reviewerID  AZYQE4YLJCLBI  AZZSKNX254F5D  \n",
       "itemID                                    \n",
       "1620213982            0.0            0.0  \n",
       "B00004YWK2            0.0            0.0  \n",
       "B000050B6H            0.0            0.0  \n",
       "B000050FDY            0.0            0.0  \n",
       "B000052YAN            0.0            0.0  \n",
       "\n",
       "[5 rows x 9343 columns]"
      ]
     },
     "execution_count": 84,
     "metadata": {},
     "output_type": "execute_result"
    }
   ],
   "source": [
    "# Creating the transpose of the matrix\n",
    "\n",
    "utility_matrix = utility_matrix.T\n",
    "utility_matrix.head()"
   ]
  },
  {
   "cell_type": "code",
   "execution_count": 85,
   "metadata": {},
   "outputs": [
    {
     "data": {
      "text/plain": [
       "(3332, 9343)"
      ]
     },
     "execution_count": 85,
     "metadata": {},
     "output_type": "execute_result"
    }
   ],
   "source": [
    "# Checking the shape of the transposed matrix\n",
    "\n",
    "utility_matrix.shape"
   ]
  },
  {
   "cell_type": "code",
   "execution_count": 87,
   "metadata": {},
   "outputs": [
    {
     "data": {
      "text/plain": [
       "(3332, 10)"
      ]
     },
     "execution_count": 87,
     "metadata": {},
     "output_type": "execute_result"
    }
   ],
   "source": [
    "# Creating the SVD model and fiting the utility matrix\n",
    "\n",
    "SVD = TruncatedSVD(n_components=10)\n",
    "decomposed_utility = SVD.fit_transform(utility_matrix)\n",
    "decomposed_utility.shape"
   ]
  },
  {
   "cell_type": "code",
   "execution_count": 90,
   "metadata": {},
   "outputs": [
    {
     "data": {
      "text/plain": [
       "(3332, 3332)"
      ]
     },
     "execution_count": 90,
     "metadata": {},
     "output_type": "execute_result"
    }
   ],
   "source": [
    "# Creating the correlation matrix using the decomposed utility matrix\n",
    "\n",
    "correlation_matrix = np.corrcoef(decomposed_utility)\n",
    "correlation_matrix.shape"
   ]
  },
  {
   "cell_type": "code",
   "execution_count": 119,
   "metadata": {},
   "outputs": [],
   "source": [
    "# Creating a method for recommendation system\n",
    "\n",
    "def recommendation_system(i):\n",
    "    item_names = list(utility_matrix.index)\n",
    "    item_ID = item_names.index(i)\n",
    "    result = list(utility_matrix.index[correlation_matrix[item_ID] > 0.70])\n",
    "    result.remove(i)\n",
    "    return result[0:15]"
   ]
  },
  {
   "cell_type": "code",
   "execution_count": 120,
   "metadata": {},
   "outputs": [
    {
     "data": {
      "text/plain": [
       "['B0000530HU',\n",
       " 'B00006IV17',\n",
       " 'B000146LKS',\n",
       " 'B00020UR4C',\n",
       " 'B00021KD2C',\n",
       " 'B0002GTTOU',\n",
       " 'B0002JOZNM',\n",
       " 'B0002PU864',\n",
       " 'B0006M56BK',\n",
       " 'B0006OJ286',\n",
       " 'B0006OJ2AE',\n",
       " 'B0006OQCLG',\n",
       " 'B00070D21W',\n",
       " 'B0009GZKA0',\n",
       " 'B0009H6094']"
      ]
     },
     "execution_count": 120,
     "metadata": {},
     "output_type": "execute_result"
    }
   ],
   "source": [
    "# Recommending the top 15 correlated items based on the item search\n",
    "\n",
    "recommendation_system('B00005JS5C')"
   ]
  },
  {
   "cell_type": "code",
   "execution_count": null,
   "metadata": {},
   "outputs": [],
   "source": []
  }
 ],
 "metadata": {
  "kernelspec": {
   "display_name": "Python 3",
   "language": "python",
   "name": "python3"
  },
  "language_info": {
   "codemirror_mode": {
    "name": "ipython",
    "version": 3
   },
   "file_extension": ".py",
   "mimetype": "text/x-python",
   "name": "python",
   "nbconvert_exporter": "python",
   "pygments_lexer": "ipython3",
   "version": "3.7.4"
  }
 },
 "nbformat": 4,
 "nbformat_minor": 2
}
